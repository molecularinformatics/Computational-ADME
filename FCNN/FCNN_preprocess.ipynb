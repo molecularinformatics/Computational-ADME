{
 "cells": [
  {
   "cell_type": "code",
   "execution_count": 1,
   "id": "88aaf0a3",
   "metadata": {},
   "outputs": [],
   "source": [
    "from rdkit import Chem\n",
    "from rdkit.Chem import AllChem\n",
    "from rdkit.Chem import rdMolDescriptors\n",
    "from rdkit.Chem import MACCSkeys\n",
    "from stat import *\n",
    "from scipy.stats import pearsonr\n",
    "import numpy as np\n",
    "import pandas as pd\n",
    "from sklearn import linear_model\n",
    "from sklearn.ensemble import RandomForestRegressor\n",
    "from sklearn.svm import SVR\n",
    "from xgboost import XGBRegressor\n",
    "import xgboost as xgb\n",
    "import lightgbm as lgb\n",
    "import joblib\n",
    "from sklearn.utils import shuffle\n",
    "from sklearn.preprocessing import RobustScaler\n",
    "from sklearn.metrics import make_scorer\n",
    "from sklearn.model_selection import cross_validate, GridSearchCV, KFold, cross_val_score,RepeatedKFold,train_test_split\n",
    "import os\n",
    "import argparse\n",
    "from argparse import *\n",
    "from rdkit.Chem.MolStandardize import rdMolStandardize\n"
   ]
  },
  {
   "cell_type": "code",
   "execution_count": 2,
   "id": "6db1af11",
   "metadata": {},
   "outputs": [
    {
     "name": "stdout",
     "output_type": "stream",
     "text": [
      "ADME_HLM_rawData.csv      ADME_Sol_rawData.csv      FCNN_preprocess.ipynb\r\n",
      "ADME_MDR1_ER_rawData.csv  ADME_hPPB_rawData.csv\r\n",
      "ADME_RLM_rawData.csv      ADME_rPPB_rawData.csv\r\n"
     ]
    }
   ],
   "source": [
    "ls"
   ]
  },
  {
   "cell_type": "code",
   "execution_count": 28,
   "id": "e4fbcaf3",
   "metadata": {},
   "outputs": [],
   "source": [
    "file = \"ADME_rPPB_rawData.csv\"\n",
    "\n",
    "data_df = pd.read_csv(file)\n",
    "data_df.dropna(axis=0, how='any', inplace=True) \n",
    "Y_data = data_df[\"activity\"]\n",
    "X_data = data_df\n",
    "X_data.drop(\"activity\", axis=1, inplace=True) \n",
    "X_data, Y_data = shuffle(X_data, Y_data, random_state=42)     \n",
    "\n",
    "X_train, X_test, Y_train, Y_test = train_test_split(X_data, Y_data, test_size=0.2, random_state=84)   \n",
    "\n",
    "data_train = pd.concat([X_train,Y_train],axis=1)\n",
    "data_test = pd.concat([X_test,Y_test],axis=1)\n",
    "\n",
    "data_train.to_csv('%s_train.csv'%file[:-4],sep=',',header=True,index=False)\n",
    "data_test.to_csv('%s_train.csv'%file[:-4],sep=',',header=True,index=False)"
   ]
  },
  {
   "cell_type": "code",
   "execution_count": 22,
   "id": "90912bd1",
   "metadata": {},
   "outputs": [
    {
     "data": {
      "text/plain": [
       "'ADME_HLM_rawData'"
      ]
     },
     "execution_count": 22,
     "metadata": {},
     "output_type": "execute_result"
    }
   ],
   "source": [
    "file[:-4]"
   ]
  },
  {
   "cell_type": "code",
   "execution_count": 20,
   "id": "92b44d36",
   "metadata": {},
   "outputs": [
    {
     "data": {
      "text/plain": [
       "(618, 1341)"
      ]
     },
     "execution_count": 20,
     "metadata": {},
     "output_type": "execute_result"
    }
   ],
   "source": [
    "data_test.shape"
   ]
  },
  {
   "cell_type": "code",
   "execution_count": null,
   "id": "bd9d86ff",
   "metadata": {},
   "outputs": [],
   "source": []
  },
  {
   "cell_type": "code",
   "execution_count": null,
   "id": "556f1ee4",
   "metadata": {},
   "outputs": [],
   "source": []
  },
  {
   "cell_type": "code",
   "execution_count": 14,
   "id": "a46d0499",
   "metadata": {},
   "outputs": [],
   "source": []
  },
  {
   "cell_type": "code",
   "execution_count": null,
   "id": "992599d7",
   "metadata": {},
   "outputs": [],
   "source": []
  },
  {
   "cell_type": "code",
   "execution_count": null,
   "id": "c90082b1",
   "metadata": {},
   "outputs": [],
   "source": []
  },
  {
   "cell_type": "code",
   "execution_count": null,
   "id": "5e247ad0",
   "metadata": {},
   "outputs": [],
   "source": []
  }
 ],
 "metadata": {
  "kernelspec": {
   "display_name": "Python 3 (ipykernel)",
   "language": "python",
   "name": "python3"
  },
  "language_info": {
   "codemirror_mode": {
    "name": "ipython",
    "version": 3
   },
   "file_extension": ".py",
   "mimetype": "text/x-python",
   "name": "python",
   "nbconvert_exporter": "python",
   "pygments_lexer": "ipython3",
   "version": "3.9.5"
  }
 },
 "nbformat": 4,
 "nbformat_minor": 5
}
